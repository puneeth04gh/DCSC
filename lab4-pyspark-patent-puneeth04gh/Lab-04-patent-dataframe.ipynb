{
 "cells": [
  {
   "cell_type": "markdown",
   "metadata": {},
   "source": [
    "# CSCI 4253 / 5253 - Lab #4 - Patent Problem with Spark DataFrames\n",
    "<div>\n",
    " <h2> CSCI 4283 / 5253 \n",
    "  <IMG SRC=\"https://www.colorado.edu/cs/profiles/express/themes/cuspirit/logo.png\" WIDTH=50 ALIGN=\"right\"/> </h2>\n",
    "</div>"
   ]
  },
  {
   "cell_type": "markdown",
   "metadata": {},
   "source": [
    "This [Spark cheatsheet](https://s3.amazonaws.com/assets.datacamp.com/blog_assets/PySpark_SQL_Cheat_Sheet_Python.pdf) is useful as is [this reference on doing joins in Spark dataframe](http://www.learnbymarketing.com/1100/pyspark-joins-by-example/).\n",
    "\n",
    "The [DataBricks company has one of the better reference manuals for PySpark](https://docs.databricks.com/spark/latest/dataframes-datasets/index.html) -- they show you how to perform numerous common data operations such as joins, aggregation operations following `groupBy` and the like."
   ]
  },
  {
   "cell_type": "code",
   "execution_count": 3,
   "metadata": {
    "execution": {
     "iopub.execute_input": "2022-09-28T15:28:05.167758Z",
     "iopub.status.busy": "2022-09-28T15:28:05.167098Z",
     "iopub.status.idle": "2022-09-28T15:28:05.569180Z",
     "shell.execute_reply": "2022-09-28T15:28:05.568504Z",
     "shell.execute_reply.started": "2022-09-28T15:28:05.167728Z"
    },
    "tags": []
   },
   "outputs": [],
   "source": [
    "from pyspark import SparkContext, SparkConf\n",
    "from pyspark.sql import SparkSession"
   ]
  },
  {
   "cell_type": "markdown",
   "metadata": {},
   "source": [
    "The following aggregation functions may be useful -- [these can be used to aggregate results of `groupby` operations](https://docs.databricks.com/spark/latest/dataframes-datasets/introduction-to-dataframes-python.html#example-aggregations-using-agg-and-countdistinct). More documentation is at the [PySpark SQL Functions manual](https://spark.apache.org/docs/2.3.0/api/python/pyspark.sql.html#module-pyspark.sql.functions). Feel free to use other functions from that library."
   ]
  },
  {
   "cell_type": "code",
   "execution_count": 4,
   "metadata": {
    "execution": {
     "iopub.execute_input": "2022-09-28T15:28:07.315019Z",
     "iopub.status.busy": "2022-09-28T15:28:07.314615Z",
     "iopub.status.idle": "2022-09-28T15:28:07.318547Z",
     "shell.execute_reply": "2022-09-28T15:28:07.318000Z",
     "shell.execute_reply.started": "2022-09-28T15:28:07.314995Z"
    },
    "tags": []
   },
   "outputs": [],
   "source": [
    "from pyspark.sql.functions import col, count, countDistinct"
   ]
  },
  {
   "cell_type": "markdown",
   "metadata": {},
   "source": [
    "Create our session as described in the tutorials"
   ]
  },
  {
   "cell_type": "code",
   "execution_count": 5,
   "metadata": {
    "execution": {
     "iopub.execute_input": "2022-09-28T15:28:08.485355Z",
     "iopub.status.busy": "2022-09-28T15:28:08.484501Z",
     "iopub.status.idle": "2022-09-28T15:28:11.367235Z",
     "shell.execute_reply": "2022-09-28T15:28:11.366458Z",
     "shell.execute_reply.started": "2022-09-28T15:28:08.485324Z"
    },
    "tags": []
   },
   "outputs": [],
   "source": [
    "spark = SparkSession \\\n",
    "    .builder \\\n",
    "    .appName(\"Lab4-Dataframe\") \\\n",
    "    .master(\"local[*]\")\\\n",
    "    .getOrCreate()"
   ]
  },
  {
   "cell_type": "markdown",
   "metadata": {},
   "source": [
    "Read in the citations and patents data and check that the data makes sense. Note that unlike in the RDD solution, the data is automatically inferred to be Integer() types."
   ]
  },
  {
   "cell_type": "code",
   "execution_count": 6,
   "metadata": {
    "execution": {
     "iopub.execute_input": "2022-09-28T15:28:11.369626Z",
     "iopub.status.busy": "2022-09-28T15:28:11.368625Z",
     "iopub.status.idle": "2022-09-28T15:28:30.066975Z",
     "shell.execute_reply": "2022-09-28T15:28:30.066211Z",
     "shell.execute_reply.started": "2022-09-28T15:28:11.369596Z"
    },
    "tags": []
   },
   "outputs": [],
   "source": [
    "citations = spark.read.load('cite75_99.txt.gz',\n",
    "            format=\"csv\", sep=\",\", header=True,\n",
    "            compression=\"gzip\",\n",
    "            inferSchema=\"true\")"
   ]
  },
  {
   "cell_type": "code",
   "execution_count": 6,
   "metadata": {
    "execution": {
     "iopub.execute_input": "2022-09-28T00:38:53.662461Z",
     "iopub.status.busy": "2022-09-28T00:38:53.661944Z",
     "iopub.status.idle": "2022-09-28T00:38:53.759680Z",
     "shell.execute_reply": "2022-09-28T00:38:53.743473Z",
     "shell.execute_reply.started": "2022-09-28T00:38:53.662440Z"
    }
   },
   "outputs": [
    {
     "name": "stdout",
     "output_type": "stream",
     "text": [
      "+-------+-------+\n",
      "| CITING|  CITED|\n",
      "+-------+-------+\n",
      "|3858241| 956203|\n",
      "|3858241|1324234|\n",
      "|3858241|3398406|\n",
      "|3858241|3557384|\n",
      "|3858241|3634889|\n",
      "+-------+-------+\n",
      "only showing top 5 rows\n",
      "\n"
     ]
    }
   ],
   "source": [
    "citations.show(5)"
   ]
  },
  {
   "cell_type": "code",
   "execution_count": 7,
   "metadata": {
    "execution": {
     "iopub.execute_input": "2022-09-28T15:28:30.068645Z",
     "iopub.status.busy": "2022-09-28T15:28:30.068229Z",
     "iopub.status.idle": "2022-09-28T15:28:39.800272Z",
     "shell.execute_reply": "2022-09-28T15:28:39.799509Z",
     "shell.execute_reply.started": "2022-09-28T15:28:30.068620Z"
    },
    "tags": []
   },
   "outputs": [],
   "source": [
    "patents = spark.read.load('apat63_99.txt.gz',\n",
    "            format=\"csv\", sep=\",\", header=True,\n",
    "            compression=\"gzip\",\n",
    "            inferSchema=\"true\")"
   ]
  },
  {
   "cell_type": "code",
   "execution_count": 8,
   "metadata": {
    "execution": {
     "iopub.execute_input": "2022-09-28T00:39:56.836749Z",
     "iopub.status.busy": "2022-09-28T00:39:56.836053Z",
     "iopub.status.idle": "2022-09-28T00:39:57.073793Z",
     "shell.execute_reply": "2022-09-28T00:39:57.073203Z",
     "shell.execute_reply.started": "2022-09-28T00:39:56.836724Z"
    }
   },
   "outputs": [
    {
     "name": "stdout",
     "output_type": "stream",
     "text": [
      "+-------+-----+-----+-------+-------+-------+--------+-------+------+------+---+------+-----+--------+--------+-------+--------+--------+--------+--------+--------+--------+--------+\n",
      "| PATENT|GYEAR|GDATE|APPYEAR|COUNTRY|POSTATE|ASSIGNEE|ASSCODE|CLAIMS|NCLASS|CAT|SUBCAT|CMADE|CRECEIVE|RATIOCIT|GENERAL|ORIGINAL|FWDAPLAG|BCKGTLAG|SELFCTUB|SELFCTLB|SECDUPBD|SECDLWBD|\n",
      "+-------+-----+-----+-------+-------+-------+--------+-------+------+------+---+------+-----+--------+--------+-------+--------+--------+--------+--------+--------+--------+--------+\n",
      "|3070801| 1963| 1096|   null|     BE|   null|    null|      1|  null|   269|  6|    69| null|       1|    null|    0.0|    null|    null|    null|    null|    null|    null|    null|\n",
      "|3070802| 1963| 1096|   null|     US|     TX|    null|      1|  null|     2|  6|    63| null|       0|    null|   null|    null|    null|    null|    null|    null|    null|    null|\n",
      "|3070803| 1963| 1096|   null|     US|     IL|    null|      1|  null|     2|  6|    63| null|       9|    null| 0.3704|    null|    null|    null|    null|    null|    null|    null|\n",
      "|3070804| 1963| 1096|   null|     US|     OH|    null|      1|  null|     2|  6|    63| null|       3|    null| 0.6667|    null|    null|    null|    null|    null|    null|    null|\n",
      "|3070805| 1963| 1096|   null|     US|     CA|    null|      1|  null|     2|  6|    63| null|       1|    null|    0.0|    null|    null|    null|    null|    null|    null|    null|\n",
      "+-------+-----+-----+-------+-------+-------+--------+-------+------+------+---+------+-----+--------+--------+-------+--------+--------+--------+--------+--------+--------+--------+\n",
      "only showing top 5 rows\n",
      "\n"
     ]
    }
   ],
   "source": [
    "patents.show(5)"
   ]
  },
  {
   "cell_type": "markdown",
   "metadata": {},
   "source": [
    "Creating aliases for patent and citation. Also, removing the null states in the patents table."
   ]
  },
  {
   "cell_type": "code",
   "execution_count": 9,
   "metadata": {
    "execution": {
     "iopub.execute_input": "2022-09-28T15:29:07.562213Z",
     "iopub.status.busy": "2022-09-28T15:29:07.561337Z",
     "iopub.status.idle": "2022-09-28T15:29:07.602099Z",
     "shell.execute_reply": "2022-09-28T15:29:07.601354Z",
     "shell.execute_reply.started": "2022-09-28T15:29:07.562180Z"
    },
    "tags": []
   },
   "outputs": [],
   "source": [
    "p = patents.alias('p1')\n",
    "c = citations.alias('c')\n",
    "p = p.select(col('*')).filter(col('POSTATE') != '')"
   ]
  },
  {
   "cell_type": "markdown",
   "metadata": {},
   "source": [
    "Creating the first join where we match the patents of citing in citation table to patent in patents table"
   ]
  },
  {
   "cell_type": "code",
   "execution_count": 10,
   "metadata": {
    "execution": {
     "iopub.execute_input": "2022-09-28T15:29:10.096499Z",
     "iopub.status.busy": "2022-09-28T15:29:10.095929Z",
     "iopub.status.idle": "2022-09-28T15:29:10.151083Z",
     "shell.execute_reply": "2022-09-28T15:29:10.150417Z",
     "shell.execute_reply.started": "2022-09-28T15:29:10.096472Z"
    },
    "tags": []
   },
   "outputs": [],
   "source": [
    "join1 = c.join(p, c.CITING == p.PATENT)\\\n",
    "         .select(c.CITING.alias(\"Citing\"),p.POSTATE.alias(\"Citing_State\"),c.CITED.alias(\"Cited\"))"
   ]
  },
  {
   "cell_type": "code",
   "execution_count": 11,
   "metadata": {
    "execution": {
     "iopub.execute_input": "2022-09-28T15:29:12.336558Z",
     "iopub.status.busy": "2022-09-28T15:29:12.335926Z",
     "iopub.status.idle": "2022-09-28T15:29:39.068850Z",
     "shell.execute_reply": "2022-09-28T15:29:39.068158Z",
     "shell.execute_reply.started": "2022-09-28T15:29:12.336524Z"
    },
    "tags": []
   },
   "outputs": [
    {
     "name": "stdout",
     "output_type": "stream",
     "text": [
      "+-------+------------+-------+\n",
      "| Citing|Citing_State|  Cited|\n",
      "+-------+------------+-------+\n",
      "|3858242|          MI|1515701|\n",
      "|3858242|          MI|3319261|\n",
      "|3858242|          MI|3668705|\n",
      "|3858242|          MI|3707004|\n",
      "|3858244|          CT|  14040|\n",
      "+-------+------------+-------+\n",
      "only showing top 5 rows\n",
      "\n"
     ]
    }
   ],
   "source": [
    "join1.show(5)"
   ]
  },
  {
   "cell_type": "markdown",
   "metadata": {},
   "source": [
    "Taking the previous join to create a new join to match the patent of cited in citations to patent in patents table generated from previous query. Also, displaying the intermediate result as shown."
   ]
  },
  {
   "cell_type": "code",
   "execution_count": 21,
   "metadata": {
    "execution": {
     "iopub.execute_input": "2022-09-28T15:34:51.749222Z",
     "iopub.status.busy": "2022-09-28T15:34:51.748820Z",
     "iopub.status.idle": "2022-09-28T15:34:51.774315Z",
     "shell.execute_reply": "2022-09-28T15:34:51.773675Z",
     "shell.execute_reply.started": "2022-09-28T15:34:51.749201Z"
    },
    "tags": []
   },
   "outputs": [],
   "source": [
    "join2 = join1.join(p, join1.Cited == p.PATENT)\\\n",
    "             .select(\"Cited\",col(\"POSTATE\").alias(\"Cited_State\"),\"Citing\",\"Citing_State\").orderBy(col(\"Cited\"))"
   ]
  },
  {
   "cell_type": "code",
   "execution_count": 22,
   "metadata": {
    "execution": {
     "iopub.execute_input": "2022-09-28T15:34:51.775305Z",
     "iopub.status.busy": "2022-09-28T15:34:51.775109Z",
     "iopub.status.idle": "2022-09-28T15:35:29.012212Z",
     "shell.execute_reply": "2022-09-28T15:35:29.011490Z",
     "shell.execute_reply.started": "2022-09-28T15:34:51.775287Z"
    },
    "tags": []
   },
   "outputs": [
    {
     "name": "stdout",
     "output_type": "stream",
     "text": [
      "+-------+-----------+-------+------------+\n",
      "|  Cited|Cited_State| Citing|Citing_State|\n",
      "+-------+-----------+-------+------------+\n",
      "|3070803|         IL|4483021|          MS|\n",
      "|3070803|         IL|5557807|          FL|\n",
      "|3070803|         IL|4921141|          CA|\n",
      "|3070803|         IL|4484363|          CA|\n",
      "|3070803|         IL|4133055|          NH|\n",
      "|3070803|         IL|5850636|          CA|\n",
      "|3070804|         OH|4694843|          OH|\n",
      "|3070804|         OH|5450626|          TX|\n",
      "|3070804|         OH|3972325|          CA|\n",
      "|3070805|         CA|4400830|          FL|\n",
      "+-------+-----------+-------+------------+\n",
      "only showing top 10 rows\n",
      "\n"
     ]
    }
   ],
   "source": [
    "join2.show(10)"
   ]
  },
  {
   "cell_type": "markdown",
   "metadata": {},
   "source": [
    " Filtering with the same state and performing groupBy and taking the aggregate of the count in decreasing order"
   ]
  },
  {
   "cell_type": "code",
   "execution_count": 19,
   "metadata": {
    "execution": {
     "iopub.execute_input": "2022-09-28T15:34:02.694586Z",
     "iopub.status.busy": "2022-09-28T15:34:02.694068Z",
     "iopub.status.idle": "2022-09-28T15:34:02.743083Z",
     "shell.execute_reply": "2022-09-28T15:34:02.741737Z",
     "shell.execute_reply.started": "2022-09-28T15:34:02.694563Z"
    },
    "tags": []
   },
   "outputs": [],
   "source": [
    "filter1 = join2.filter(col(\"Cited_State\") == col(\"Citing_State\"))\\\n",
    "               .groupBy(\"Citing\",\"Citing_State\").agg(count(\"*\").alias(\"SAME_STATE\"))\\\n",
    "               .orderBy(col(\"SAME_STATE\").desc())"
   ]
  },
  {
   "cell_type": "code",
   "execution_count": 20,
   "metadata": {
    "execution": {
     "iopub.execute_input": "2022-09-28T15:34:02.744687Z",
     "iopub.status.busy": "2022-09-28T15:34:02.744415Z",
     "iopub.status.idle": "2022-09-28T15:34:51.747373Z",
     "shell.execute_reply": "2022-09-28T15:34:51.746712Z",
     "shell.execute_reply.started": "2022-09-28T15:34:02.744662Z"
    }
   },
   "outputs": [
    {
     "name": "stdout",
     "output_type": "stream",
     "text": [
      "+-------+------------+----------+\n",
      "| Citing|Citing_State|SAME_STATE|\n",
      "+-------+------------+----------+\n",
      "|5959466|          CA|       125|\n",
      "|5983822|          TX|       103|\n",
      "|6008204|          CA|       100|\n",
      "|5952345|          CA|        98|\n",
      "|5958954|          CA|        96|\n",
      "|5998655|          CA|        96|\n",
      "|5936426|          CA|        94|\n",
      "|5951547|          CA|        90|\n",
      "|5980517|          CA|        90|\n",
      "|5739256|          CA|        90|\n",
      "+-------+------------+----------+\n",
      "only showing top 10 rows\n",
      "\n"
     ]
    }
   ],
   "source": [
    "filter1.show(10)"
   ]
  },
  {
   "cell_type": "markdown",
   "metadata": {},
   "source": [
    "Displaying the final output with the required columns"
   ]
  },
  {
   "cell_type": "code",
   "execution_count": 90,
   "metadata": {
    "execution": {
     "iopub.execute_input": "2022-09-28T05:05:10.153705Z",
     "iopub.status.busy": "2022-09-28T05:05:10.152656Z",
     "iopub.status.idle": "2022-09-28T05:06:03.208807Z",
     "shell.execute_reply": "2022-09-28T05:06:03.207802Z",
     "shell.execute_reply.started": "2022-09-28T05:05:10.153662Z"
    },
    "tags": []
   },
   "outputs": [
    {
     "name": "stdout",
     "output_type": "stream",
     "text": [
      "+-------+-----+-----+-------+-------+-------+--------+-------+------+------+---+------+-----+--------+--------+-------+--------+--------+--------+--------+--------+--------+--------+----------+\n",
      "| PATENT|GYEAR|GDATE|APPYEAR|COUNTRY|POSTATE|ASSIGNEE|ASSCODE|CLAIMS|NCLASS|CAT|SUBCAT|CMADE|CRECEIVE|RATIOCIT|GENERAL|ORIGINAL|FWDAPLAG|BCKGTLAG|SELFCTUB|SELFCTLB|SECDUPBD|SECDLWBD|SAME_STATE|\n",
      "+-------+-----+-----+-------+-------+-------+--------+-------+------+------+---+------+-----+--------+--------+-------+--------+--------+--------+--------+--------+--------+--------+----------+\n",
      "|5959466| 1999|14515|   1997|     US|     CA|    5310|      2|  null|   326|  4|    46|  159|       0|     1.0|   null|  0.6186|    null|  4.8868|  0.0455|   0.044|    null|    null|       125|\n",
      "|5983822| 1999|14564|   1998|     US|     TX|  569900|      2|  null|   114|  5|    55|  200|       0|   0.995|   null|  0.7201|    null|   12.45|     0.0|     0.0|    null|    null|       103|\n",
      "|6008204| 1999|14606|   1998|     US|     CA|  749584|      2|  null|   514|  3|    31|  121|       0|     1.0|   null|  0.7415|    null|     5.0|  0.0085|  0.0083|    null|    null|       100|\n",
      "|5952345| 1999|14501|   1997|     US|     CA|  749584|      2|  null|   514|  3|    31|  118|       0|     1.0|   null|  0.7442|    null|  5.1102|     0.0|     0.0|    null|    null|        98|\n",
      "|5998655| 1999|14585|   1998|     US|     CA|    null|      1|  null|   560|  1|    14|  114|       0|     1.0|   null|  0.7387|    null|  5.1667|    null|    null|    null|    null|        96|\n",
      "|5958954| 1999|14515|   1997|     US|     CA|  749584|      2|  null|   514|  3|    31|  116|       0|     1.0|   null|  0.7397|    null|   5.181|     0.0|     0.0|    null|    null|        96|\n",
      "|5936426| 1999|14466|   1997|     US|     CA|    5310|      2|  null|   326|  4|    46|  178|       0|     1.0|   null|    0.58|    null| 11.2303|  0.0765|   0.073|    null|    null|        94|\n",
      "|5913855| 1999|14417|   1997|     US|     CA|  733846|      2|  null|   606|  3|    32|  242|       0|     1.0|   null|  0.7403|    null|  8.3595|     0.0|     0.0|    null|    null|        90|\n",
      "|5951547| 1999|14501|   1997|     US|     CA|  733846|      2|  null|   606|  3|    32|  242|       0|     1.0|   null|  0.7382|    null|  8.3471|     0.0|     0.0|    null|    null|        90|\n",
      "|5925042| 1999|14445|   1997|     US|     CA|  733846|      2|  null|   606|  3|    32|  242|       0|     1.0|   null|  0.7382|    null|  8.3471|     0.0|     0.0|    null|    null|        90|\n",
      "+-------+-----+-----+-------+-------+-------+--------+-------+------+------+---+------+-----+--------+--------+-------+--------+--------+--------+--------+--------+--------+--------+----------+\n",
      "only showing top 10 rows\n",
      "\n"
     ]
    }
   ],
   "source": [
    "finalAns = p.join(filter1, p.PATENT == filter1.Citing)\\\n",
    "            .drop(col(\"Citing\")).drop(col(\"Citing_State\"))\\\n",
    "            .orderBy(col(\"SAME_STATE\").desc())\n",
    "finalAns.show(10)"
   ]
  }
 ],
 "metadata": {
  "kernelspec": {
   "display_name": "Python 3 (ipykernel)",
   "language": "python",
   "name": "python3"
  },
  "language_info": {
   "codemirror_mode": {
    "name": "ipython",
    "version": 3
   },
   "file_extension": ".py",
   "mimetype": "text/x-python",
   "name": "python",
   "nbconvert_exporter": "python",
   "pygments_lexer": "ipython3",
   "version": "3.10.5"
  }
 },
 "nbformat": 4,
 "nbformat_minor": 4
}
