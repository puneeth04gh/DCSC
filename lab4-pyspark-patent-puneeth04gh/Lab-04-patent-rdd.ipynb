{
 "cells": [
  {
   "cell_type": "markdown",
   "metadata": {},
   "source": [
    "# CSCI 4253 / 5253 - Lab #4 - Patent Problem with Spark RDD - SOLUTION\n",
    "<div>\n",
    " <h2> CSCI 4283 / 5253 \n",
    "  <IMG SRC=\"https://www.colorado.edu/cs/profiles/express/themes/cuspirit/logo.png\" WIDTH=50 ALIGN=\"right\"/> </h2>\n",
    "</div>"
   ]
  },
  {
   "cell_type": "markdown",
   "metadata": {},
   "source": [
    "This [Spark cheatsheet](https://s3.amazonaws.com/assets.datacamp.com/blog_assets/PySpark_SQL_Cheat_Sheet_Python.pdf) is useful"
   ]
  },
  {
   "cell_type": "code",
   "execution_count": 1,
   "metadata": {
    "execution": {
     "iopub.execute_input": "2022-09-29T05:02:45.960947Z",
     "iopub.status.busy": "2022-09-29T05:02:45.960422Z",
     "iopub.status.idle": "2022-09-29T05:02:46.352646Z",
     "shell.execute_reply": "2022-09-29T05:02:46.351943Z",
     "shell.execute_reply.started": "2022-09-29T05:02:45.960864Z"
    },
    "tags": []
   },
   "outputs": [],
   "source": [
    "from pyspark import SparkContext, SparkConf\n",
    "import numpy as np\n",
    "import operator"
   ]
  },
  {
   "cell_type": "code",
   "execution_count": 2,
   "metadata": {
    "execution": {
     "iopub.execute_input": "2022-09-29T05:02:46.755702Z",
     "iopub.status.busy": "2022-09-29T05:02:46.754797Z",
     "iopub.status.idle": "2022-09-29T05:02:49.724849Z",
     "shell.execute_reply": "2022-09-29T05:02:49.723756Z",
     "shell.execute_reply.started": "2022-09-29T05:02:46.755670Z"
    },
    "tags": []
   },
   "outputs": [],
   "source": [
    "conf=SparkConf().setAppName(\"Lab4-rdd\").setMaster(\"local[*]\")\n",
    "sc = SparkContext(conf=conf)"
   ]
  },
  {
   "cell_type": "markdown",
   "metadata": {},
   "source": [
    "Using PySpark and RDD's on the https://coding.csel.io machines is slow -- most of the code is executed in Python and this is much less efficient than the java-based code using the PySpark dataframes. Be patient and trying using `.cache()` to cache the output of joins. You may want to start with a reduced set of data before running the full task. You can use the `sample()` method to extract just a sample of the data or use "
   ]
  },
  {
   "cell_type": "markdown",
   "metadata": {},
   "source": [
    "These two RDD's are called \"rawCitations\" and \"rawPatents\" because you probably want to process them futher (e.g. convert them to integer types, etc). \n",
    "\n",
    "The `textFile` function returns data in strings. This should work fine for this lab.\n",
    "\n",
    "Other methods you use might return data in type `Byte`. If you haven't used Python `Byte` types before, google it. You can convert a value of `x` type byte into e.g. a UTF8 string using `x.decode('uft-8')`. Alternatively, you can use the `open` method of the gzip library to read in all the lines as UTF-8 strings like this:\n",
    "```\n",
    "import gzip\n",
    "with gzip.open('cite75_99.txt.gz', 'rt',encoding='utf-8') as f:\n",
    "    rddCitations = sc.parallelize( f.readlines() )\n",
    "```\n",
    "This is less efficient than using `textFile` because `textFile` would use the underlying HDFS or other file system to read the file across all the worker nodes while the using `gzip.open()...readlines()` will read all the data in the frontend and then distribute it to all the worker nodes."
   ]
  },
  {
   "cell_type": "code",
   "execution_count": 3,
   "metadata": {
    "execution": {
     "iopub.execute_input": "2022-09-29T05:02:52.118218Z",
     "iopub.status.busy": "2022-09-29T05:02:52.117420Z",
     "iopub.status.idle": "2022-09-29T05:02:52.629243Z",
     "shell.execute_reply": "2022-09-29T05:02:52.628568Z",
     "shell.execute_reply.started": "2022-09-29T05:02:52.118184Z"
    },
    "tags": []
   },
   "outputs": [],
   "source": [
    "# rddCitations = sc.textFile(\"cite75_99.txt.gz\").sample(False, 0.05)\n",
    "# rddPatents = sc.textFile(\"apat63_99.txt.gz\").sample(False, 0.05)\n",
    "\n",
    "rddCitations = sc.textFile(\"cite75_99.txt.gz\")\n",
    "rddPatents = sc.textFile(\"apat63_99.txt.gz\")"
   ]
  },
  {
   "cell_type": "markdown",
   "metadata": {},
   "source": [
    "The data looks like the following."
   ]
  },
  {
   "cell_type": "code",
   "execution_count": 33,
   "metadata": {
    "execution": {
     "iopub.execute_input": "2022-09-28T16:20:52.954866Z",
     "iopub.status.busy": "2022-09-28T16:20:52.954133Z",
     "iopub.status.idle": "2022-09-28T16:20:57.012280Z",
     "shell.execute_reply": "2022-09-28T16:20:57.011598Z",
     "shell.execute_reply.started": "2022-09-28T16:20:52.954842Z"
    },
    "tags": []
   },
   "outputs": [
    {
     "data": {
      "text/plain": [
       "['3858245,2072303',\n",
       " '3858250,3324482',\n",
       " '3858250,3331084',\n",
       " '3858251,1106732',\n",
       " '3858255,3284812']"
      ]
     },
     "execution_count": 33,
     "metadata": {},
     "output_type": "execute_result"
    }
   ],
   "source": [
    "rddCitations.take(5)"
   ]
  },
  {
   "cell_type": "code",
   "execution_count": 34,
   "metadata": {
    "execution": {
     "iopub.execute_input": "2022-09-28T16:20:57.014002Z",
     "iopub.status.busy": "2022-09-28T16:20:57.013516Z",
     "iopub.status.idle": "2022-09-28T16:20:59.304727Z",
     "shell.execute_reply": "2022-09-28T16:20:59.304209Z",
     "shell.execute_reply.started": "2022-09-28T16:20:57.013979Z"
    }
   },
   "outputs": [
    {
     "data": {
      "text/plain": [
       "['\"PATENT\",\"GYEAR\",\"GDATE\",\"APPYEAR\",\"COUNTRY\",\"POSTATE\",\"ASSIGNEE\",\"ASSCODE\",\"CLAIMS\",\"NCLASS\",\"CAT\",\"SUBCAT\",\"CMADE\",\"CRECEIVE\",\"RATIOCIT\",\"GENERAL\",\"ORIGINAL\",\"FWDAPLAG\",\"BCKGTLAG\",\"SELFCTUB\",\"SELFCTLB\",\"SECDUPBD\",\"SECDLWBD\"',\n",
       " '3070825,1963,1096,,\"US\",\"IL\",,1,,401,1,12,,7,,0.6531,,,,,,,',\n",
       " '3070852,1963,1096,,\"US\",\"KY\",,2,,49,5,59,,7,,0.2449,,,,,,,',\n",
       " '3070906,1963,1096,,\"US\",\"NY\",,2,,434,6,69,,6,,0.6667,,,,,,,',\n",
       " '3070939,1963,1096,,\"US\",\"MN\",,1,,56,6,61,,0,,,,,,,,,']"
      ]
     },
     "execution_count": 34,
     "metadata": {},
     "output_type": "execute_result"
    }
   ],
   "source": [
    "rddPatents.take(5)"
   ]
  },
  {
   "cell_type": "markdown",
   "metadata": {},
   "source": [
    "In other words, they are a single string with multiple CSV's. You will need to convert these to (K,V) pairs, probably convert the keys to `int` and so on. You'll need to `filter` out the header string as well since there's no easy way to extract all the lines except the first."
   ]
  },
  {
   "cell_type": "markdown",
   "metadata": {},
   "source": [
    "Removing header from citations"
   ]
  },
  {
   "cell_type": "code",
   "execution_count": 4,
   "metadata": {
    "execution": {
     "iopub.execute_input": "2022-09-29T05:02:55.999347Z",
     "iopub.status.busy": "2022-09-29T05:02:55.998616Z",
     "iopub.status.idle": "2022-09-29T05:03:01.066058Z",
     "shell.execute_reply": "2022-09-29T05:03:01.065271Z",
     "shell.execute_reply.started": "2022-09-29T05:02:55.999324Z"
    },
    "tags": []
   },
   "outputs": [],
   "source": [
    "citationsHeader = rddCitations.first() #extract header\n",
    "citationWoHeader = rddCitations.filter(lambda row: row != citationsHeader)   #filter out header"
   ]
  },
  {
   "cell_type": "code",
   "execution_count": 36,
   "metadata": {
    "execution": {
     "iopub.execute_input": "2022-09-28T16:21:09.914641Z",
     "iopub.status.busy": "2022-09-28T16:21:09.914112Z",
     "iopub.status.idle": "2022-09-28T16:21:13.953917Z",
     "shell.execute_reply": "2022-09-28T16:21:13.953120Z",
     "shell.execute_reply.started": "2022-09-28T16:21:09.914620Z"
    },
    "tags": []
   },
   "outputs": [
    {
     "data": {
      "text/plain": [
       "['3858250,3324482',\n",
       " '3858250,3331084',\n",
       " '3858251,1106732',\n",
       " '3858255,3284812',\n",
       " '3858260,3090973']"
      ]
     },
     "execution_count": 36,
     "metadata": {},
     "output_type": "execute_result"
    }
   ],
   "source": [
    "citationWoHeader.take(5)"
   ]
  },
  {
   "cell_type": "markdown",
   "metadata": {},
   "source": [
    "Removing header from patents"
   ]
  },
  {
   "cell_type": "code",
   "execution_count": 5,
   "metadata": {
    "execution": {
     "iopub.execute_input": "2022-09-29T05:03:01.068002Z",
     "iopub.status.busy": "2022-09-29T05:03:01.067742Z",
     "iopub.status.idle": "2022-09-29T05:03:03.288578Z",
     "shell.execute_reply": "2022-09-29T05:03:03.287943Z",
     "shell.execute_reply.started": "2022-09-29T05:03:01.067981Z"
    },
    "tags": []
   },
   "outputs": [],
   "source": [
    "patentsHeader = rddPatents.first() #extract header\n",
    "patentsWoHeader = rddPatents.filter(lambda row: row != patentsHeader)   #filter out header"
   ]
  },
  {
   "cell_type": "code",
   "execution_count": 38,
   "metadata": {
    "execution": {
     "iopub.execute_input": "2022-09-28T16:21:16.158039Z",
     "iopub.status.busy": "2022-09-28T16:21:16.157818Z",
     "iopub.status.idle": "2022-09-28T16:21:18.352761Z",
     "shell.execute_reply": "2022-09-28T16:21:18.352206Z",
     "shell.execute_reply.started": "2022-09-28T16:21:16.158021Z"
    },
    "tags": []
   },
   "outputs": [
    {
     "data": {
      "text/plain": [
       "['3070825,1963,1096,,\"US\",\"IL\",,1,,401,1,12,,7,,0.6531,,,,,,,',\n",
       " '3070852,1963,1096,,\"US\",\"KY\",,2,,49,5,59,,7,,0.2449,,,,,,,',\n",
       " '3070906,1963,1096,,\"US\",\"NY\",,2,,434,6,69,,6,,0.6667,,,,,,,',\n",
       " '3070939,1963,1096,,\"US\",\"MN\",,1,,56,6,61,,0,,,,,,,,,',\n",
       " '3070950,1963,1096,,\"US\",\"SC\",,2,,57,6,63,,4,,0,,,,,,,']"
      ]
     },
     "execution_count": 38,
     "metadata": {},
     "output_type": "execute_result"
    }
   ],
   "source": [
    "patentsWoHeader.take(5)"
   ]
  },
  {
   "cell_type": "markdown",
   "metadata": {},
   "source": [
    "Removing the null entries from patents state column"
   ]
  },
  {
   "cell_type": "code",
   "execution_count": 6,
   "metadata": {
    "execution": {
     "iopub.execute_input": "2022-09-29T05:03:03.290239Z",
     "iopub.status.busy": "2022-09-29T05:03:03.289706Z",
     "iopub.status.idle": "2022-09-29T05:03:03.293353Z",
     "shell.execute_reply": "2022-09-29T05:03:03.292854Z",
     "shell.execute_reply.started": "2022-09-29T05:03:03.290217Z"
    },
    "tags": []
   },
   "outputs": [],
   "source": [
    "patentsWoNull = patentsWoHeader.filter(lambda row: row[5] != '\"\"')"
   ]
  },
  {
   "cell_type": "code",
   "execution_count": 41,
   "metadata": {
    "execution": {
     "iopub.execute_input": "2022-09-28T16:25:19.253056Z",
     "iopub.status.busy": "2022-09-28T16:25:19.252479Z",
     "iopub.status.idle": "2022-09-28T16:25:21.548812Z",
     "shell.execute_reply": "2022-09-28T16:25:21.548217Z",
     "shell.execute_reply.started": "2022-09-28T16:25:19.253033Z"
    }
   },
   "outputs": [
    {
     "data": {
      "text/plain": [
       "['3070825,1963,1096,,\"US\",\"IL\",,1,,401,1,12,,7,,0.6531,,,,,,,',\n",
       " '3070852,1963,1096,,\"US\",\"KY\",,2,,49,5,59,,7,,0.2449,,,,,,,',\n",
       " '3070906,1963,1096,,\"US\",\"NY\",,2,,434,6,69,,6,,0.6667,,,,,,,',\n",
       " '3070939,1963,1096,,\"US\",\"MN\",,1,,56,6,61,,0,,,,,,,,,',\n",
       " '3070950,1963,1096,,\"US\",\"SC\",,2,,57,6,63,,4,,0,,,,,,,']"
      ]
     },
     "execution_count": 41,
     "metadata": {},
     "output_type": "execute_result"
    }
   ],
   "source": [
    "patentsWoNull.take(5)"
   ]
  },
  {
   "cell_type": "markdown",
   "metadata": {},
   "source": [
    "Creating key,value pair for patents and citation table"
   ]
  },
  {
   "cell_type": "code",
   "execution_count": 7,
   "metadata": {
    "execution": {
     "iopub.execute_input": "2022-09-29T05:03:04.300548Z",
     "iopub.status.busy": "2022-09-29T05:03:04.299805Z",
     "iopub.status.idle": "2022-09-29T05:03:04.320738Z",
     "shell.execute_reply": "2022-09-29T05:03:04.320041Z",
     "shell.execute_reply.started": "2022-09-29T05:03:04.300523Z"
    },
    "tags": []
   },
   "outputs": [],
   "source": [
    "patentsData = patentsWoNull.map(lambda row : row.split(',')).map(lambda row: (row[0], row[5])).cache()\n",
    "citationData = citationWoHeader.map(lambda row : row.split(',')).map(lambda row: (row[0], row[1])).cache()"
   ]
  },
  {
   "cell_type": "code",
   "execution_count": 49,
   "metadata": {
    "execution": {
     "iopub.execute_input": "2022-09-28T17:13:52.650686Z",
     "iopub.status.busy": "2022-09-28T17:13:52.650106Z",
     "iopub.status.idle": "2022-09-28T17:13:54.919384Z",
     "shell.execute_reply": "2022-09-28T17:13:54.918726Z",
     "shell.execute_reply.started": "2022-09-28T17:13:52.650659Z"
    },
    "tags": []
   },
   "outputs": [
    {
     "data": {
      "text/plain": [
       "[('3070825', '\"IL\"'),\n",
       " ('3070852', '\"KY\"'),\n",
       " ('3070906', '\"NY\"'),\n",
       " ('3070939', '\"MN\"'),\n",
       " ('3070950', '\"SC\"')]"
      ]
     },
     "execution_count": 49,
     "metadata": {},
     "output_type": "execute_result"
    }
   ],
   "source": [
    "patentsData.take(5)"
   ]
  },
  {
   "cell_type": "code",
   "execution_count": 50,
   "metadata": {
    "execution": {
     "iopub.execute_input": "2022-09-28T17:13:58.578935Z",
     "iopub.status.busy": "2022-09-28T17:13:58.578161Z",
     "iopub.status.idle": "2022-09-28T17:14:02.617310Z",
     "shell.execute_reply": "2022-09-28T17:14:02.616744Z",
     "shell.execute_reply.started": "2022-09-28T17:13:58.578909Z"
    },
    "tags": []
   },
   "outputs": [
    {
     "data": {
      "text/plain": [
       "[('3858250', '3324482'),\n",
       " ('3858250', '3331084'),\n",
       " ('3858251', '1106732'),\n",
       " ('3858255', '3284812'),\n",
       " ('3858260', '3090973')]"
      ]
     },
     "execution_count": 50,
     "metadata": {},
     "output_type": "execute_result"
    }
   ],
   "source": [
    "citationData.take(5)"
   ]
  },
  {
   "cell_type": "markdown",
   "metadata": {},
   "source": [
    "Joining citation citing and patents table"
   ]
  },
  {
   "cell_type": "code",
   "execution_count": 8,
   "metadata": {
    "execution": {
     "iopub.execute_input": "2022-09-29T05:03:06.778049Z",
     "iopub.status.busy": "2022-09-29T05:03:06.777114Z",
     "iopub.status.idle": "2022-09-29T05:03:06.829288Z",
     "shell.execute_reply": "2022-09-29T05:03:06.828662Z",
     "shell.execute_reply.started": "2022-09-29T05:03:06.778023Z"
    },
    "tags": []
   },
   "outputs": [],
   "source": [
    "join1 = citationData.join(patentsData).filter(lambda row: row[1][1] != '\"\"').cache()"
   ]
  },
  {
   "cell_type": "code",
   "execution_count": 57,
   "metadata": {
    "execution": {
     "iopub.execute_input": "2022-09-28T17:20:34.136756Z",
     "iopub.status.busy": "2022-09-28T17:20:34.135565Z",
     "iopub.status.idle": "2022-09-28T17:20:54.077511Z",
     "shell.execute_reply": "2022-09-28T17:20:54.076711Z",
     "shell.execute_reply.started": "2022-09-28T17:20:34.136721Z"
    },
    "tags": []
   },
   "outputs": [
    {
     "data": {
      "text/plain": [
       "[('3858358', ('2290979', '\"TX\"')),\n",
       " ('3858582', ('2589426', '\"CA\"')),\n",
       " ('3858582', ('3090383', '\"CA\"')),\n",
       " ('3859113', ('2412138', '\"OH\"')),\n",
       " ('3859165', ('3247068', '\"PA\"'))]"
      ]
     },
     "execution_count": 57,
     "metadata": {},
     "output_type": "execute_result"
    }
   ],
   "source": [
    "join1.take(5)"
   ]
  },
  {
   "cell_type": "markdown",
   "metadata": {},
   "source": [
    "Arranging the key,value pair to have cited as the key"
   ]
  },
  {
   "cell_type": "code",
   "execution_count": 9,
   "metadata": {
    "execution": {
     "iopub.execute_input": "2022-09-29T05:03:08.421319Z",
     "iopub.status.busy": "2022-09-29T05:03:08.420879Z",
     "iopub.status.idle": "2022-09-29T05:03:08.432277Z",
     "shell.execute_reply": "2022-09-29T05:03:08.431536Z",
     "shell.execute_reply.started": "2022-09-29T05:03:08.421294Z"
    },
    "tags": []
   },
   "outputs": [],
   "source": [
    "join1Data = join1.map(lambda row: (row[1][0], (row[0],row[1][1]))).cache()"
   ]
  },
  {
   "cell_type": "code",
   "execution_count": 62,
   "metadata": {
    "execution": {
     "iopub.execute_input": "2022-09-28T17:24:32.670905Z",
     "iopub.status.busy": "2022-09-28T17:24:32.670026Z",
     "iopub.status.idle": "2022-09-28T17:24:32.877729Z",
     "shell.execute_reply": "2022-09-28T17:24:32.876975Z",
     "shell.execute_reply.started": "2022-09-28T17:24:32.670868Z"
    },
    "tags": []
   },
   "outputs": [
    {
     "data": {
      "text/plain": [
       "[('2290979', ('3858358', '\"TX\"')),\n",
       " ('2589426', ('3858582', '\"CA\"')),\n",
       " ('3090383', ('3858582', '\"CA\"')),\n",
       " ('2412138', ('3859113', '\"OH\"')),\n",
       " ('3247068', ('3859165', '\"PA\"'))]"
      ]
     },
     "execution_count": 62,
     "metadata": {},
     "output_type": "execute_result"
    }
   ],
   "source": [
    "join1Data.take(5)"
   ]
  },
  {
   "cell_type": "markdown",
   "metadata": {},
   "source": [
    "Joining cited of citation table with patents"
   ]
  },
  {
   "cell_type": "code",
   "execution_count": 10,
   "metadata": {
    "execution": {
     "iopub.execute_input": "2022-09-29T05:03:11.014332Z",
     "iopub.status.busy": "2022-09-29T05:03:11.013573Z",
     "iopub.status.idle": "2022-09-29T05:03:11.045951Z",
     "shell.execute_reply": "2022-09-29T05:03:11.045292Z",
     "shell.execute_reply.started": "2022-09-29T05:03:11.014303Z"
    },
    "tags": []
   },
   "outputs": [],
   "source": [
    "join2 = join1Data.join(patentsData).filter(lambda row: row[1][1] != '\"\"').cache()"
   ]
  },
  {
   "cell_type": "code",
   "execution_count": 64,
   "metadata": {
    "execution": {
     "iopub.execute_input": "2022-09-28T17:25:29.308608Z",
     "iopub.status.busy": "2022-09-28T17:25:29.307879Z",
     "iopub.status.idle": "2022-09-28T17:25:32.293037Z",
     "shell.execute_reply": "2022-09-28T17:25:32.292318Z",
     "shell.execute_reply.started": "2022-09-28T17:25:29.308584Z"
    }
   },
   "outputs": [
    {
     "data": {
      "text/plain": [
       "[('3754884', (('3875766', '\"NY\"'), '\"TN\"')),\n",
       " ('3405757', (('3908746', '\"MI\"'), '\"CA\"')),\n",
       " ('3779851', (('3915781', '\"CT\"'), '\"CA\"')),\n",
       " ('3511549', (('3933402', '\"WI\"'), '\"NJ\"')),\n",
       " ('3823753', (('3939886', '\"WI\"'), '\"IL\"'))]"
      ]
     },
     "execution_count": 64,
     "metadata": {},
     "output_type": "execute_result"
    }
   ],
   "source": [
    "join2.take(5)"
   ]
  },
  {
   "cell_type": "code",
   "execution_count": null,
   "metadata": {},
   "outputs": [],
   "source": [
    "Rearranging the columns, ((Cited,Cited_State),(Citing,Citing_State))"
   ]
  },
  {
   "cell_type": "code",
   "execution_count": 11,
   "metadata": {
    "execution": {
     "iopub.execute_input": "2022-09-29T05:03:13.331415Z",
     "iopub.status.busy": "2022-09-29T05:03:13.330868Z",
     "iopub.status.idle": "2022-09-29T05:03:13.340710Z",
     "shell.execute_reply": "2022-09-29T05:03:13.340121Z",
     "shell.execute_reply.started": "2022-09-29T05:03:13.331387Z"
    },
    "tags": []
   },
   "outputs": [],
   "source": [
    "join2Data = join2.map(lambda row: (row[1][0],(row[0],row[1][1]))).cache()"
   ]
  },
  {
   "cell_type": "code",
   "execution_count": 72,
   "metadata": {
    "execution": {
     "iopub.execute_input": "2022-09-28T17:29:27.216614Z",
     "iopub.status.busy": "2022-09-28T17:29:27.215952Z",
     "iopub.status.idle": "2022-09-28T17:29:27.381394Z",
     "shell.execute_reply": "2022-09-28T17:29:27.380737Z",
     "shell.execute_reply.started": "2022-09-28T17:29:27.216584Z"
    },
    "tags": []
   },
   "outputs": [
    {
     "data": {
      "text/plain": [
       "[(('3875766', '\"NY\"'), ('3754884', '\"TN\"')),\n",
       " (('3908746', '\"MI\"'), ('3405757', '\"CA\"')),\n",
       " (('3915781', '\"CT\"'), ('3779851', '\"CA\"')),\n",
       " (('3933402', '\"WI\"'), ('3511549', '\"NJ\"')),\n",
       " (('3939886', '\"WI\"'), ('3823753', '\"IL\"'))]"
      ]
     },
     "execution_count": 72,
     "metadata": {},
     "output_type": "execute_result"
    }
   ],
   "source": [
    "join2Data.take(5)"
   ]
  },
  {
   "cell_type": "markdown",
   "metadata": {},
   "source": [
    "Filtering the columns to have same state for Citing and Cited. And assigning 1 count to each row"
   ]
  },
  {
   "cell_type": "code",
   "execution_count": 12,
   "metadata": {
    "execution": {
     "iopub.execute_input": "2022-09-29T05:03:17.464015Z",
     "iopub.status.busy": "2022-09-29T05:03:17.463254Z",
     "iopub.status.idle": "2022-09-29T05:03:17.467560Z",
     "shell.execute_reply": "2022-09-29T05:03:17.466922Z",
     "shell.execute_reply.started": "2022-09-29T05:03:17.463984Z"
    },
    "tags": []
   },
   "outputs": [],
   "source": [
    "filter1 = join2Data.filter(lambda row: row[0][1] == row[1][1]).map(lambda row: (row[0],1))"
   ]
  },
  {
   "cell_type": "code",
   "execution_count": 91,
   "metadata": {
    "execution": {
     "iopub.execute_input": "2022-09-28T17:55:54.320427Z",
     "iopub.status.busy": "2022-09-28T17:55:54.319892Z",
     "iopub.status.idle": "2022-09-28T18:01:45.010441Z",
     "shell.execute_reply": "2022-09-28T18:01:45.009651Z",
     "shell.execute_reply.started": "2022-09-28T17:55:54.320403Z"
    },
    "tags": []
   },
   "outputs": [
    {
     "data": {
      "text/plain": [
       "[(('5211683', '\"MN\"'), 1),\n",
       " (('5908029', '\"MN\"'), 1),\n",
       " (('5755682', '\"MN\"'), 1),\n",
       " (('5941908', '\"MN\"'), 1),\n",
       " (('4909979', '\"MN\"'), 1)]"
      ]
     },
     "execution_count": 91,
     "metadata": {},
     "output_type": "execute_result"
    }
   ],
   "source": [
    "filter1.take(5)"
   ]
  },
  {
   "cell_type": "markdown",
   "metadata": {},
   "source": [
    "Counting the last column and giving output in the descending order"
   ]
  },
  {
   "cell_type": "code",
   "execution_count": 13,
   "metadata": {
    "execution": {
     "iopub.execute_input": "2022-09-29T05:03:19.938167Z",
     "iopub.status.busy": "2022-09-29T05:03:19.937363Z",
     "iopub.status.idle": "2022-09-29T05:10:05.522445Z",
     "shell.execute_reply": "2022-09-29T05:10:05.521371Z",
     "shell.execute_reply.started": "2022-09-29T05:03:19.938131Z"
    },
    "tags": []
   },
   "outputs": [],
   "source": [
    "count = sorted(filter1.countByKey().items(), key = lambda x: x[1], reverse=True)"
   ]
  },
  {
   "cell_type": "code",
   "execution_count": 14,
   "metadata": {
    "execution": {
     "iopub.execute_input": "2022-09-29T05:10:05.524610Z",
     "iopub.status.busy": "2022-09-29T05:10:05.524245Z",
     "iopub.status.idle": "2022-09-29T05:10:05.895664Z",
     "shell.execute_reply": "2022-09-29T05:10:05.894937Z",
     "shell.execute_reply.started": "2022-09-29T05:10:05.524582Z"
    },
    "tags": []
   },
   "outputs": [],
   "source": [
    "countAns = sc.parallelize(count)"
   ]
  },
  {
   "cell_type": "code",
   "execution_count": 16,
   "metadata": {
    "execution": {
     "iopub.execute_input": "2022-09-28T20:02:52.373077Z",
     "iopub.status.busy": "2022-09-28T20:02:52.372473Z",
     "iopub.status.idle": "2022-09-28T20:02:52.550115Z",
     "shell.execute_reply": "2022-09-28T20:02:52.549458Z",
     "shell.execute_reply.started": "2022-09-28T20:02:52.373047Z"
    }
   },
   "outputs": [
    {
     "data": {
      "text/plain": [
       "[(('5959466', '\"CA\"'), 125),\n",
       " (('5983822', '\"TX\"'), 103),\n",
       " (('6008204', '\"CA\"'), 100),\n",
       " (('5952345', '\"CA\"'), 98),\n",
       " (('5998655', '\"CA\"'), 96)]"
      ]
     },
     "execution_count": 16,
     "metadata": {},
     "output_type": "execute_result"
    }
   ],
   "source": [
    "countAns.take(5)"
   ]
  },
  {
   "cell_type": "markdown",
   "metadata": {},
   "source": [
    "Below lines of code is written to display the output as shown in the documentation"
   ]
  },
  {
   "cell_type": "code",
   "execution_count": 15,
   "metadata": {
    "execution": {
     "iopub.execute_input": "2022-09-29T05:10:05.897031Z",
     "iopub.status.busy": "2022-09-29T05:10:05.896588Z",
     "iopub.status.idle": "2022-09-29T05:10:05.909411Z",
     "shell.execute_reply": "2022-09-29T05:10:05.908827Z",
     "shell.execute_reply.started": "2022-09-29T05:10:05.897010Z"
    },
    "tags": []
   },
   "outputs": [],
   "source": [
    "patentMatch = patentsWoNull.map(lambda row : row.split(',')).map(lambda row: ((row[0],row[5]), row[1:])).filter(lambda x: x[0][1] != '\"\"').cache()"
   ]
  },
  {
   "cell_type": "code",
   "execution_count": 18,
   "metadata": {
    "execution": {
     "iopub.execute_input": "2022-09-29T05:12:47.845188Z",
     "iopub.status.busy": "2022-09-29T05:12:47.844346Z",
     "iopub.status.idle": "2022-09-29T05:15:32.699983Z",
     "shell.execute_reply": "2022-09-29T05:15:32.699167Z",
     "shell.execute_reply.started": "2022-09-29T05:12:47.845162Z"
    },
    "tags": []
   },
   "outputs": [],
   "source": [
    "finalAns = patentMatch.join(countAns).map(lambda x: (x[0][0],x[1][0],x[1][1])).sortBy(lambda x: x[2], ascending=False).cache()"
   ]
  },
  {
   "cell_type": "code",
   "execution_count": 21,
   "metadata": {
    "execution": {
     "iopub.execute_input": "2022-09-29T05:47:06.187924Z",
     "iopub.status.busy": "2022-09-29T05:47:06.187175Z",
     "iopub.status.idle": "2022-09-29T05:47:06.405254Z",
     "shell.execute_reply": "2022-09-29T05:47:06.404638Z",
     "shell.execute_reply.started": "2022-09-29T05:47:06.187897Z"
    },
    "tags": []
   },
   "outputs": [
    {
     "name": "stdout",
     "output_type": "stream",
     "text": [
      "('5959466', ['1999', '14515', '1997', '\"US\"', '\"CA\"', '5310', '2', '', '326', '4', '46', '159', '0', '1', '', '0.6186', '', '4.8868', '0.0455', '0.044', '', ''], 125)\n",
      "('5983822', ['1999', '14564', '1998', '\"US\"', '\"TX\"', '569900', '2', '', '114', '5', '55', '200', '0', '0.995', '', '0.7201', '', '12.45', '0', '0', '', ''], 103)\n",
      "('6008204', ['1999', '14606', '1998', '\"US\"', '\"CA\"', '749584', '2', '', '514', '3', '31', '121', '0', '1', '', '0.7415', '', '5', '0.0085', '0.0083', '', ''], 100)\n",
      "('5952345', ['1999', '14501', '1997', '\"US\"', '\"CA\"', '749584', '2', '', '514', '3', '31', '118', '0', '1', '', '0.7442', '', '5.1102', '0', '0', '', ''], 98)\n",
      "('5998655', ['1999', '14585', '1998', '\"US\"', '\"CA\"', '', '1', '', '560', '1', '14', '114', '0', '1', '', '0.7387', '', '5.1667', '', '', '', ''], 96)\n",
      "('5958954', ['1999', '14515', '1997', '\"US\"', '\"CA\"', '749584', '2', '', '514', '3', '31', '116', '0', '1', '', '0.7397', '', '5.181', '0', '0', '', ''], 96)\n",
      "('5936426', ['1999', '14466', '1997', '\"US\"', '\"CA\"', '5310', '2', '', '326', '4', '46', '178', '0', '1', '', '0.58', '', '11.2303', '0.0765', '0.073', '', ''], 94)\n",
      "('5913855', ['1999', '14417', '1997', '\"US\"', '\"CA\"', '733846', '2', '', '606', '3', '32', '242', '0', '1', '', '0.7403', '', '8.3595', '0', '0', '', ''], 90)\n",
      "('5978329', ['1999', '14550', '1995', '\"US\"', '\"CA\"', '148925', '2', '', '369', '2', '24', '145', '0', '1', '', '0.5449', '', '12.9241', '0.4196', '0.4138', '', ''], 90)\n",
      "('5951547', ['1999', '14501', '1997', '\"US\"', '\"CA\"', '733846', '2', '', '606', '3', '32', '242', '0', '1', '', '0.7382', '', '8.3471', '0', '0', '', ''], 90)\n"
     ]
    }
   ],
   "source": [
    "for line in finalAns.take(10):\n",
    "    print(line)"
   ]
  }
 ],
 "metadata": {
  "kernelspec": {
   "display_name": "Python 3 (ipykernel)",
   "language": "python",
   "name": "python3"
  },
  "language_info": {
   "codemirror_mode": {
    "name": "ipython",
    "version": 3
   },
   "file_extension": ".py",
   "mimetype": "text/x-python",
   "name": "python",
   "nbconvert_exporter": "python",
   "pygments_lexer": "ipython3",
   "version": "3.10.5"
  }
 },
 "nbformat": 4,
 "nbformat_minor": 4
}
